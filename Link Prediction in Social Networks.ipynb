{
 "cells": [
  {
   "cell_type": "markdown",
   "id": "fa6d98bc-2bd6-4a0b-b0c2-f2304210e74d",
   "metadata": {},
   "source": [
    "# Link Prediction in Social Network Analysis (SNA)\n",
    "\n",
    "### Introduction\n",
    "In this notebook, we will explore **Link Prediction** in Social Network Analysis using machine learning techniques. Social networks are composed of individuals (nodes) connected by relationships (edges), and link prediction aims to predict future or missing connections based on the current structure of the network.\n",
    "\n",
    "Using **Zachary's Karate Club** dataset (a classic social network graph), we will:\n",
    "- Visualize the original social network,\n",
    "- Extract features from the network (such as common neighbors),\n",
    "- Train a machine learning model to predict missing links,\n",
    "- Evaluate the model's accuracy, and\n",
    "- Visualize the predicted links in the network.\n",
    "\n",
    "The notebook will demonstrate how to implement basic link prediction using the **Random Forest** classifier from `scikit-learn`, along with the **NetworkX** library for network visualization and manipulation.\n",
    "\n",
    "By the end of this notebook, you'll understand how link prediction can be applied in social networks and how machine learning helps uncover hidden or future relationships between individuals.\n",
    "\n",
    "### Key Steps:\n",
    "1. **Graph Creation and Visualization**: We'll start by visualizing the network structure of Zachary's Karate Club.\n",
    "2. **Data Preparation**: We'll split the network into existing links (edges) and missing links (non-edges), which will serve as the dataset for training our model.\n",
    "3. **Feature Extraction**: We'll calculate features like common neighbors between pairs of nodes to help the model predict new links.\n",
    "4. **Model Training**: A Random Forest classifier will be trained on the existing data to learn the patterns of link formation.\n",
    "5. **Prediction and Evaluation**: We'll test the model on unseen data to predict which non-existent links are likely to form, and evaluate its performance.\n",
    "6. **Visualization of Predictions**: Finally, we'll visualize the predicted links as red dashed lines in the graph to show potential new connections.\n",
    "\n",
    "Let’s get started!\n"
   ]
  },
  {
   "cell_type": "code",
   "execution_count": null,
   "id": "9c8d58c9-d32b-4a17-830c-9e673a963464",
   "metadata": {},
   "outputs": [],
   "source": [
    "# Link Prediction in Social Network Analysis using Jupyter Notebook\n",
    "\n",
    "# Step 1: Install Necessary Libraries\n",
    "\n",
    "#!pip install networkx scikit-learn matplotlib\n",
    "\n"
   ]
  },
  {
   "cell_type": "markdown",
   "id": "db30d872-bf41-4158-b7d2-0c5650c6f199",
   "metadata": {},
   "source": [
    "### Step 2: Import Required Libraries\n",
    "\n",
    "In this step, we will import the necessary Python libraries that will enable us to work with graphs, perform machine learning tasks, and visualize the results.\n",
    "\n",
    "#### Libraries used:\n",
    "1. **NetworkX**: This is a popular library for the creation, manipulation, and study of complex networks or graphs. We will use it to load and manipulate the social network (Zachary's Karate Club) and extract graph-based features for our link prediction task.\n",
    "   \n",
    "2. **Matplotlib**: A widely used library for creating static, interactive, and animated visualizations in Python. We will use it to visualize the graph and the predicted links.\n",
    "\n",
    "3. **Scikit-learn**: This is a versatile machine learning library in Python. We'll use it to:\n",
    "   - Split the data into training and testing sets,\n",
    "   - Train a Random Forest classifier for predicting links, and\n",
    "   - Evaluate the model's performance.\n",
    "\n",
    "By importing these libraries, we ensure that we have the tools required for working with social network data, building machine learning models, and generating visualizations.\n",
    "\n"
   ]
  },
  {
   "cell_type": "code",
   "execution_count": null,
   "id": "812ea30f-0cd4-4c50-a9ae-f06df02e05f0",
   "metadata": {},
   "outputs": [],
   "source": [
    "# Step 2: Import Required Libraries\n",
    "import networkx as nx\n",
    "import matplotlib.pyplot as plt\n",
    "from sklearn.ensemble import RandomForestClassifier\n",
    "from sklearn.model_selection import train_test_split\n",
    "from sklearn.metrics import accuracy_score\n",
    "\n"
   ]
  },
  {
   "cell_type": "markdown",
   "id": "009e29a3-2c33-439c-af42-7dd103ae663b",
   "metadata": {},
   "source": [
    "### Step 3: Create a Graph with NetworkX\n",
    "\n",
    "In this step, we will create and visualize the social network using the **NetworkX** library.\n",
    "\n",
    "#### Graph: Zachary's Karate Club\n",
    "We are using **Zachary's Karate Club Graph**, a well-known social network dataset in network analysis. This graph represents friendships between 34 members of a karate club, where nodes represent individuals, and edges represent friendships between them.\n",
    "\n",
    "#### Key Tasks:\n",
    "1. **Loading the Graph**: We use the `nx.karate_club_graph()` function from NetworkX to load this pre-built graph dataset. It's a great example for link prediction tasks due to its small size and real-world structure.\n",
    "   \n",
    "2. **Positioning Nodes**: To visualize the graph, we need to compute positions for each node. We use the `spring_layout()` function, which positions the nodes based on a force-directed algorithm, creating an intuitive and easy-to-understand graph layout.\n",
    "\n",
    "3. **Graph Visualization**: We will visualize the network using `Matplotlib`. The graph will display:\n",
    "   - **Nodes**: Each node represents an individual in the club.\n",
    "   - **Edges**: Edges between nodes represent existing friendships.\n",
    "\n",
    "Visualizing the graph gives us a clear picture of the network structure, allowing us to understand the relationships between individuals before we proceed to predict new or missing links.\n",
    "\n",
    "#### Why Visualization is Important:\n",
    "By visualizing the graph, we can observe the structure of relationships within the network and detect any patterns or clusters. This step helps in understanding the data before moving to machine learning tasks.\n",
    "\n",
    "Let’s go ahead and visualize Zachary’s Karate Club!\n",
    "\n"
   ]
  },
  {
   "cell_type": "code",
   "execution_count": null,
   "id": "bd4940a1-6054-4ceb-af22-ef561b2c3422",
   "metadata": {},
   "outputs": [],
   "source": [
    "# Step 3: Create a Graph with NetworkX (Zachary's Karate Club)\n",
    "G = nx.karate_club_graph()\n",
    "\n",
    "# Generate positions for the nodes using spring layout\n",
    "pos = nx.spring_layout(G)\n",
    "\n",
    "# Visualize the graph (optional)\n",
    "plt.figure(figsize=(8,6))\n",
    "nx.draw(G, pos, with_labels=True, node_color='lightblue', node_size=500, font_size=10)\n",
    "plt.title(\"Zachary's Karate Club Graph\")\n",
    "plt.show()\n",
    "\n",
    "\n"
   ]
  },
  {
   "cell_type": "markdown",
   "id": "987a8f0d-402a-42d2-9dc6-c3fc271f7330",
   "metadata": {},
   "source": [
    "### Step 4: Split Data for Link Prediction\n",
    "\n",
    "In this step, we will prepare our dataset for the link prediction task by splitting it into existing edges (links) and non-edges (missing links).\n",
    "\n",
    "#### Key Tasks:\n",
    "1. **Extract Existing Edges**: We retrieve all existing edges from the graph using the `G.edges()` function. These edges represent the actual friendships in Zachary's Karate Club.\n",
    "\n",
    "2. **Identify Non-Edges**: Using `nx.non_edges(G)`, we generate a list of potential connections that do not currently exist in the graph. These non-edges serve as our candidates for prediction.\n",
    "\n",
    "3. **Split Data**: We divide both the existing edges and non-edges into training and testing sets using the `train_test_split` function from `scikit-learn`. This ensures that our model can learn from one set of data and be evaluated on another, helping us assess its predictive capabilities accurately.\n",
    "\n",
    "By separating our dataset into training and testing sets, we prepare for the feature extraction and model training steps that follow, laying the groundwork for our link prediction model.\n",
    "\n",
    "---"
   ]
  },
  {
   "cell_type": "code",
   "execution_count": null,
   "id": "d1c34287-fe6c-4351-bbef-f8743531995d",
   "metadata": {},
   "outputs": [],
   "source": [
    "# Step 4: Split Data for Link Prediction\n",
    "# Get all existing edges (links) in the graph\n",
    "edges = list(G.edges())\n",
    "non_edges = list(nx.non_edges(G))\n",
    "\n",
    "# Split the edges and non-edges into training and test sets\n",
    "edges_train, edges_test = train_test_split(edges, test_size=0.3, random_state=42)\n",
    "non_edges_train, non_edges_test = train_test_split(non_edges, test_size=0.3, random_state=42)\n"
   ]
  },
  {
   "cell_type": "markdown",
   "id": "c1f69a05-9fbb-43aa-b699-8d0e83431c85",
   "metadata": {},
   "source": [
    "### Step 5: Feature Extraction (Common Neighbors)\n",
    "\n",
    "In this step, we will extract features from the graph that will be used for training our machine learning model.\n",
    "\n",
    "#### Key Tasks:\n",
    "1. **Common Neighbors**: One of the simplest yet effective features for link prediction is the number of **common neighbors** between two nodes. The more common friends two individuals have, the more likely they are to form a connection. We will define a function, `common_neighbors(u, v, G)`, that counts the common neighbors between nodes `u` and `v` in graph `G`.\n",
    "\n",
    "2. **Creating the Feature Matrix**: We will create a feature matrix using the `create_features` function. For each pair of nodes (both existing edges and non-edges), this function will calculate the number of common neighbors and label them as `1` for existing edges and `0` for non-edges.\n",
    "\n",
    "This feature extraction step is crucial because it transforms the graph's structural information into a format suitable for machine learning. The features will help our model learn patterns that indicate whether a link is likely to exist between two nodes.\n",
    "\n",
    "---"
   ]
  },
  {
   "cell_type": "code",
   "execution_count": null,
   "id": "5a9e4b6e-df3b-4b2a-839f-3950ae33c7fa",
   "metadata": {},
   "outputs": [],
   "source": [
    "# Step 5: Feature Extraction (Common Neighbors)\n",
    "# Function to compute the number of common neighbors between two nodes\n",
    "def common_neighbors(u, v, G):\n",
    "    return len(list(nx.common_neighbors(G, u, v)))\n",
    "\n",
    "# Create feature matrix for training (using common neighbors)\n",
    "def create_features(edges, label, G):\n",
    "    features = []\n",
    "    for u, v in edges:\n",
    "        features.append([common_neighbors(u, v, G), label])\n",
    "    return features\n",
    "\n",
    "# Extract features for training data (1 for existing edges, 0 for non-existing edges)\n",
    "features_pos_train = create_features(edges_train, 1, G)\n",
    "features_neg_train = create_features(non_edges_train, 0, G)\n",
    "\n",
    "# Combine positive and negative examples\n",
    "train_data = features_pos_train + features_neg_train"
   ]
  },
  {
   "cell_type": "markdown",
   "id": "372aee1d-0e7e-4784-91f2-59e3e3c07796",
   "metadata": {},
   "source": [
    "### Step 6: Train a Machine Learning Model\n",
    "\n",
    "In this step, we will train a machine learning model using the features extracted in the previous step.\n",
    "\n",
    "#### Key Tasks:\n",
    "1. **Prepare the Dataset**: We separate our features and labels into `X_train` and `y_train`. `X_train` will contain the feature values (number of common neighbors), and `y_train` will consist of the labels (1 for existing edges, 0 for non-edges).\n",
    "\n",
    "2. **Random Forest Classifier**: We will use a **Random Forest Classifier** from the `scikit-learn` library. Random Forest is a versatile and robust ensemble learning method that combines multiple decision trees to improve prediction accuracy.\n",
    "\n",
    "3. **Model Training**: The classifier will be trained using the `fit()` method on our training dataset (`X_train`, `y_train`). This process allows the model to learn the relationship between the features and the presence or absence of edges in the graph.\n",
    "\n",
    "By training our model, we prepare it to make predictions about which non-edges are likely to become edges based on the learned patterns from the training data.\n",
    "\n",
    "---"
   ]
  },
  {
   "cell_type": "code",
   "execution_count": null,
   "id": "86212793-c3e9-4501-8845-29d521eba822",
   "metadata": {},
   "outputs": [],
   "source": [
    "# Step 6: Train a Machine Learning Model\n",
    "# Prepare the dataset\n",
    "X_train = [x[:-1] for x in train_data]  # Features (common neighbors)\n",
    "y_train = [x[-1] for x in train_data]   # Labels (1 for edge, 0 for no edge)\n",
    "\n",
    "# Train a RandomForest classifier\n",
    "clf = RandomForestClassifier(random_state=42)\n",
    "clf.fit(X_train, y_train)"
   ]
  },
  {
   "cell_type": "markdown",
   "id": "7c8c0eb0-61e0-4707-a368-7962eb58e89c",
   "metadata": {},
   "source": [
    "### Step 7: Predict and Evaluate\n",
    "\n",
    "In this step, we will use the trained model to make predictions and evaluate its performance.\n",
    "\n",
    "#### Key Tasks:\n",
    "1. **Extract Features for Testing**: We will extract features for both the test data (existing edges) and the non-edges using the `create_features` function. This will provide us with the data needed for evaluation.\n",
    "\n",
    "2. **Prepare Test Dataset**: Similar to the training step, we will create `X_test` and `y_test` from the test data. `X_test` will hold the features, and `y_test` will contain the actual labels.\n",
    "\n",
    "3. **Make Predictions**: We will use the `predict()` method of the trained classifier to predict the presence of edges in the test set.\n",
    "\n",
    "4. **Evaluate Performance**: Finally, we will assess the model's performance using accuracy metrics with the `accuracy_score` function. This will give us a clear indication of how well the model performs in predicting links.\n",
    "\n",
    "By evaluating the model's predictions against the true labels, we gain insight into its effectiveness and the reliability of our link prediction approach.\n",
    "\n",
    "---"
   ]
  },
  {
   "cell_type": "code",
   "execution_count": null,
   "id": "d8e7c03c-6c22-4376-ba3d-dd6853ede350",
   "metadata": {},
   "outputs": [],
   "source": [
    "# Step 7: Predict and Evaluate\n",
    "# Extract features from test data\n",
    "features_pos_test = create_features(edges_test, 1, G)\n",
    "features_neg_test = create_features(non_edges_test, 0, G)\n",
    "test_data = features_pos_test + features_neg_test\n",
    "\n",
    "# Prepare test dataset\n",
    "X_test = [x[:-1] for x in test_data]\n",
    "y_test = [x[-1] for x in test_data]\n",
    "\n",
    "# Predict on the test data\n",
    "y_pred = clf.predict(X_test)\n",
    "\n",
    "# Calculate accuracy\n",
    "accuracy = accuracy_score(y_test, y_pred)\n",
    "print(f\"Accuracy of Link Prediction: {accuracy:.2f}\")"
   ]
  },
  {
   "cell_type": "markdown",
   "id": "0af2081a-6bc0-4710-ab96-997e4178d770",
   "metadata": {},
   "source": [
    "### Step 8: Visualize Some of the Predicted Links (Optional)\n",
    "\n",
    "In this final step, we will visualize the results of our link prediction task by displaying the predicted links on the original graph.\n",
    "\n",
    "#### Key Tasks:\n",
    "1. **Identify Predicted Links**: We will filter the predicted results to find the non-edges that were classified as likely to form links (predicted edges).\n",
    "\n",
    "2. **Visualize the Original Graph**: Using `Matplotlib`, we will visualize the original graph structure again.\n",
    "\n",
    "3. **Overlay Predicted Links**: The predicted links will be displayed as **red dashed lines** on the graph. This visualization highlights potential new connections that the model suggests could exist based on the patterns learned from the training data.\n",
    "\n",
    "4. **Interpretation**: By examining the predicted links in the context of the original graph, we can gain insights into potential future relationships within the network.\n",
    "\n",
    "Visualizing the predictions helps us understand the model's output better and provides a clear view of how link prediction can inform us about potential connections in social networks."
   ]
  },
  {
   "cell_type": "code",
   "execution_count": null,
   "id": "2ec8b763-a966-4b0c-96df-344934642fc4",
   "metadata": {},
   "outputs": [],
   "source": [
    "# Step 8: Visualize some of the predicted links (optional)\n",
    "# Show true links vs predicted non-links\n",
    "predicted_edges = [e for e, p in zip(non_edges_test, y_pred) if p == 1]\n",
    "\n",
    "# Visualize the original graph with predicted links\n",
    "plt.figure(figsize=(8,6))\n",
    "nx.draw(G, pos, with_labels=True, node_color='lightblue', node_size=500, font_size=10)\n",
    "nx.draw_networkx_edges(G, pos, edgelist=predicted_edges, edge_color='red', style='dashed', width=2)\n",
    "plt.title(\"Original Graph with Predicted Links (in red dashed lines)\")\n",
    "plt.show()"
   ]
  },
  {
   "cell_type": "markdown",
   "id": "ac4d91fa-0c88-4bf5-8a6d-b31a8f3a0f17",
   "metadata": {},
   "source": [
    "Predicted links (red) that were not part of the original graph but were predicted by the machine learning model (in this case, a Random Forest classifier)."
   ]
  },
  {
   "cell_type": "markdown",
   "id": "1983114a-fe3f-4e54-adff-b37ee465a793",
   "metadata": {},
   "source": [
    "### Explanation of Results\n",
    "\n",
    "In our link prediction task, we trained a model to guess which connections might form between people in Zachary's Karate Club. Here’s what we found:\n",
    "\n",
    "1. **Predicted Links**: The model predicted some friendships that do not currently exist. These are potential connections that could happen in the future based on existing relationships.\n",
    "\n",
    "2. **Performance**: We evaluated how well our model did by comparing its predictions to the actual friendships. \n",
    "   - **Accuracy**: The model's accuracy score tells us how many of the predicted friendships were correct. A higher score means the model is better at predicting new connections.\n",
    "\n",
    "3. **Visual Results**: In the graph, we can see the original friendships represented by solid lines. The predicted friendships are shown as red dashed lines. \n",
    "   - **What it means**: The red dashed lines highlight possible new friendships that the model thinks could form based on shared friends.\n",
    "\n",
    "In simple terms, our model helps us understand who might become friends in the future based on who they already know. The predictions can help us see patterns in social networks and make informed guesses about future relationships.\n"
   ]
  },
  {
   "cell_type": "code",
   "execution_count": null,
   "id": "c2a5afc9-ac1f-42a3-a962-b2602de8d2c0",
   "metadata": {},
   "outputs": [],
   "source": []
  }
 ],
 "metadata": {
  "kernelspec": {
   "display_name": "Python 3 (ipykernel)",
   "language": "python",
   "name": "python3"
  },
  "language_info": {
   "codemirror_mode": {
    "name": "ipython",
    "version": 3
   },
   "file_extension": ".py",
   "mimetype": "text/x-python",
   "name": "python",
   "nbconvert_exporter": "python",
   "pygments_lexer": "ipython3",
   "version": "3.12.4"
  }
 },
 "nbformat": 4,
 "nbformat_minor": 5
}
